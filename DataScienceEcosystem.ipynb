{
 "cells": [
  {
   "cell_type": "markdown",
   "id": "b6826aba-b7cc-4b44-b58d-ed227d402be9",
   "metadata": {},
   "source": [
    "# Data Science Tools and Ecosystem"
   ]
  },
  {
   "cell_type": "markdown",
   "id": "b4b5a97e-1be0-466c-be44-bab39989f81b",
   "metadata": {},
   "source": [
    "In this notebook, Data Science Tools and Ecosystem are summarized."
   ]
  },
  {
   "cell_type": "markdown",
   "id": "377f908b-261c-4f03-8d33-11bfba3b10bd",
   "metadata": {},
   "source": [
    "**Objectives:**\n",
    "*List popular languages for Data Science\n",
    "*List the commonly used libraries by Data Scientists\n",
    "*Name some data science tools"
   ]
  },
  {
   "cell_type": "markdown",
   "id": "53232257-d551-45a7-adcc-e66bfc6bf938",
   "metadata": {},
   "source": [
    "Some of the popular languages that Data Scientists use are:\n",
    "1. Python\n",
    "2. R\n",
    "3. C"
   ]
  },
  {
   "cell_type": "markdown",
   "id": "bab175c2-6103-4647-9210-ebb917ac5470",
   "metadata": {},
   "source": [
    "Some of the commonly used libraries used by Data Scientists include:\n",
    "1. PyTorch\n",
    "2. Keras\n",
    "3. Matplotlib"
   ]
  },
  {
   "cell_type": "markdown",
   "id": "c52e5faa-d884-4202-a3dc-7a661a676486",
   "metadata": {},
   "source": [
    "|Data Science Tools|\n",
    "|------------------|\n",
    "|Jupiter Notebook. |\n",
    "|GitHub.           |\n",
    "|RStudio.          |"
   ]
  },
  {
   "cell_type": "markdown",
   "id": "4fb08f75-99e7-48d0-804b-e9086a154576",
   "metadata": {},
   "source": [
    "### Below are a few examples of evaluating arithmetic expressions in Python"
   ]
  },
  {
   "cell_type": "code",
   "execution_count": 3,
   "id": "8643521f-f447-47b0-b1d2-b96892c8851f",
   "metadata": {},
   "outputs": [
    {
     "data": {
      "text/plain": [
       "17"
      ]
     },
     "execution_count": 3,
     "metadata": {},
     "output_type": "execute_result"
    }
   ],
   "source": [
    "# This a simple arithmetic expression to mutiply then add integers\n",
    "(3*4)+5"
   ]
  },
  {
   "cell_type": "code",
   "execution_count": 4,
   "id": "070f02ae-42c4-4d51-8839-fc5e796d99e6",
   "metadata": {},
   "outputs": [
    {
     "data": {
      "text/plain": [
       "3.3333333333333335"
      ]
     },
     "execution_count": 4,
     "metadata": {},
     "output_type": "execute_result"
    }
   ],
   "source": [
    "# This will convert 200 minutes to hours by diving by 60\n",
    "200/60"
   ]
  },
  {
   "cell_type": "markdown",
   "id": "4fe6652f-d059-40d9-9a30-05ec86fa1c24",
   "metadata": {},
   "source": [
    "## Author\n",
    "Yury"
   ]
  }
 ],
 "metadata": {
  "kernelspec": {
   "display_name": "Python 3 (ipykernel)",
   "language": "python",
   "name": "python3"
  },
  "language_info": {
   "codemirror_mode": {
    "name": "ipython",
    "version": 3
   },
   "file_extension": ".py",
   "mimetype": "text/x-python",
   "name": "python",
   "nbconvert_exporter": "python",
   "pygments_lexer": "ipython3",
   "version": "3.10.9"
  }
 },
 "nbformat": 4,
 "nbformat_minor": 5
}
